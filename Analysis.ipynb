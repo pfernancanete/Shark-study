{
 "cells": [
  {
   "cell_type": "code",
   "execution_count": 3,
   "metadata": {},
   "outputs": [],
   "source": [
    "import pandas as pd\n",
    "import numpy as np \n",
    "import re\n",
    "import seaborn as sns\n"
   ]
  },
  {
   "cell_type": "markdown",
   "metadata": {},
   "source": [
    "This file (\"Analysis.ipynb\") will be used to analyse the dataset \"attacks.csv\" which has been previously been cleaned on another file (\"Clean.ipynb\") and test my hypothsesis :\n",
    "\n",
    "\"Surfers and those participating in board sports account for most incidents specially in the US state of Florida\""
   ]
  },
  {
   "cell_type": "code",
   "execution_count": 9,
   "metadata": {
    "scrolled": false
   },
   "outputs": [
    {
     "data": {
      "text/html": [
       "<div>\n",
       "<style scoped>\n",
       "    .dataframe tbody tr th:only-of-type {\n",
       "        vertical-align: middle;\n",
       "    }\n",
       "\n",
       "    .dataframe tbody tr th {\n",
       "        vertical-align: top;\n",
       "    }\n",
       "\n",
       "    .dataframe thead th {\n",
       "        text-align: right;\n",
       "    }\n",
       "</style>\n",
       "<table border=\"1\" class=\"dataframe\">\n",
       "  <thead>\n",
       "    <tr style=\"text-align: right;\">\n",
       "      <th></th>\n",
       "      <th>Unnamed: 0</th>\n",
       "      <th>Year</th>\n",
       "      <th>Type</th>\n",
       "      <th>Country</th>\n",
       "      <th>Area</th>\n",
       "      <th>Activity</th>\n",
       "      <th>Sex</th>\n",
       "      <th>Fatal (Y/N)</th>\n",
       "      <th>Species</th>\n",
       "    </tr>\n",
       "  </thead>\n",
       "  <tbody>\n",
       "    <tr>\n",
       "      <th>0</th>\n",
       "      <td>6</td>\n",
       "      <td>2018</td>\n",
       "      <td>Unprovoked</td>\n",
       "      <td>BRAZIL</td>\n",
       "      <td>Pernambuco</td>\n",
       "      <td>Swimming</td>\n",
       "      <td>M</td>\n",
       "      <td>Y</td>\n",
       "      <td>Tiger shark</td>\n",
       "    </tr>\n",
       "    <tr>\n",
       "      <th>1</th>\n",
       "      <td>23</td>\n",
       "      <td>2018</td>\n",
       "      <td>Unprovoked</td>\n",
       "      <td>MALDIVES</td>\n",
       "      <td>Alifu Alifu Atoll</td>\n",
       "      <td>Fishing</td>\n",
       "      <td>M</td>\n",
       "      <td>N</td>\n",
       "      <td>Tiger shark</td>\n",
       "    </tr>\n",
       "    <tr>\n",
       "      <th>2</th>\n",
       "      <td>30</td>\n",
       "      <td>2018</td>\n",
       "      <td>Unprovoked</td>\n",
       "      <td>BAHAMAS</td>\n",
       "      <td>New Providence</td>\n",
       "      <td>Surfing</td>\n",
       "      <td>M</td>\n",
       "      <td>N</td>\n",
       "      <td>Tiger shark</td>\n",
       "    </tr>\n",
       "    <tr>\n",
       "      <th>3</th>\n",
       "      <td>34</td>\n",
       "      <td>2018</td>\n",
       "      <td>Unprovoked</td>\n",
       "      <td>SOUTH AFRICA</td>\n",
       "      <td>Eastern Cape Province</td>\n",
       "      <td>Surfing</td>\n",
       "      <td>M</td>\n",
       "      <td>N</td>\n",
       "      <td>White shark</td>\n",
       "    </tr>\n",
       "    <tr>\n",
       "      <th>4</th>\n",
       "      <td>53</td>\n",
       "      <td>2017</td>\n",
       "      <td>Unprovoked</td>\n",
       "      <td>USA</td>\n",
       "      <td>Hawaii</td>\n",
       "      <td>Surfing</td>\n",
       "      <td>F</td>\n",
       "      <td>N</td>\n",
       "      <td>Tiger shark</td>\n",
       "    </tr>\n",
       "    <tr>\n",
       "      <th>...</th>\n",
       "      <td>...</td>\n",
       "      <td>...</td>\n",
       "      <td>...</td>\n",
       "      <td>...</td>\n",
       "      <td>...</td>\n",
       "      <td>...</td>\n",
       "      <td>...</td>\n",
       "      <td>...</td>\n",
       "      <td>...</td>\n",
       "    </tr>\n",
       "    <tr>\n",
       "      <th>107</th>\n",
       "      <td>5041</td>\n",
       "      <td>1930</td>\n",
       "      <td>Unprovoked</td>\n",
       "      <td>USA</td>\n",
       "      <td>Florida</td>\n",
       "      <td>Swimming</td>\n",
       "      <td>M</td>\n",
       "      <td>N</td>\n",
       "      <td>Tiger shark</td>\n",
       "    </tr>\n",
       "    <tr>\n",
       "      <th>108</th>\n",
       "      <td>5105</td>\n",
       "      <td>1928</td>\n",
       "      <td>Unprovoked</td>\n",
       "      <td>AUSTRALIA</td>\n",
       "      <td>Queensland</td>\n",
       "      <td>Fishing</td>\n",
       "      <td>M</td>\n",
       "      <td>N</td>\n",
       "      <td>Tiger shark</td>\n",
       "    </tr>\n",
       "    <tr>\n",
       "      <th>109</th>\n",
       "      <td>5231</td>\n",
       "      <td>1922</td>\n",
       "      <td>Unprovoked</td>\n",
       "      <td>AUSTRALIA</td>\n",
       "      <td>New South Wales</td>\n",
       "      <td>Swimming</td>\n",
       "      <td>M</td>\n",
       "      <td>Y</td>\n",
       "      <td>White shark</td>\n",
       "    </tr>\n",
       "    <tr>\n",
       "      <th>110</th>\n",
       "      <td>5545</td>\n",
       "      <td>1901</td>\n",
       "      <td>Unprovoked</td>\n",
       "      <td>SOUTH AFRICA</td>\n",
       "      <td>Western Cape Province</td>\n",
       "      <td>Swimming</td>\n",
       "      <td>M</td>\n",
       "      <td>Y</td>\n",
       "      <td>White shark</td>\n",
       "    </tr>\n",
       "    <tr>\n",
       "      <th>111</th>\n",
       "      <td>5887</td>\n",
       "      <td>1874</td>\n",
       "      <td>Boating</td>\n",
       "      <td>CANADA</td>\n",
       "      <td>Newfoundland</td>\n",
       "      <td>Fishing</td>\n",
       "      <td>M</td>\n",
       "      <td>N</td>\n",
       "      <td>White shark</td>\n",
       "    </tr>\n",
       "  </tbody>\n",
       "</table>\n",
       "<p>112 rows × 9 columns</p>\n",
       "</div>"
      ],
      "text/plain": [
       "     Unnamed: 0  Year        Type       Country                   Area  \\\n",
       "0             6  2018  Unprovoked        BRAZIL             Pernambuco   \n",
       "1            23  2018  Unprovoked      MALDIVES      Alifu Alifu Atoll   \n",
       "2            30  2018  Unprovoked       BAHAMAS         New Providence   \n",
       "3            34  2018  Unprovoked  SOUTH AFRICA  Eastern Cape Province   \n",
       "4            53  2017  Unprovoked           USA                 Hawaii   \n",
       "..          ...   ...         ...           ...                    ...   \n",
       "107        5041  1930  Unprovoked           USA                Florida   \n",
       "108        5105  1928  Unprovoked     AUSTRALIA             Queensland   \n",
       "109        5231  1922  Unprovoked     AUSTRALIA        New South Wales   \n",
       "110        5545  1901  Unprovoked  SOUTH AFRICA  Western Cape Province   \n",
       "111        5887  1874     Boating        CANADA           Newfoundland   \n",
       "\n",
       "     Activity Sex  Fatal (Y/N)     Species   \n",
       "0    Swimming    M           Y  Tiger shark  \n",
       "1     Fishing    M           N  Tiger shark  \n",
       "2     Surfing    M           N  Tiger shark  \n",
       "3     Surfing    M           N  White shark  \n",
       "4     Surfing    F           N  Tiger shark  \n",
       "..        ...  ...         ...          ...  \n",
       "107  Swimming    M           N  Tiger shark  \n",
       "108   Fishing    M           N  Tiger shark  \n",
       "109  Swimming    M           Y  White shark  \n",
       "110  Swimming    M           Y  White shark  \n",
       "111   Fishing    M           N  White shark  \n",
       "\n",
       "[112 rows x 9 columns]"
      ]
     },
     "execution_count": 9,
     "metadata": {},
     "output_type": "execute_result"
    }
   ],
   "source": [
    "data = pd.read_csv(\"output/attacks_Clean.csv\")\n",
    "data"
   ]
  },
  {
   "cell_type": "code",
   "execution_count": 12,
   "metadata": {},
   "outputs": [
    {
     "name": "stderr",
     "output_type": "stream",
     "text": [
      "\"jt\" no se reconoce como un comando interno o externo,\n",
      "programa o archivo por lotes ejecutable.\n"
     ]
    }
   ],
   "source": [
    "!jt -t oceans16 -tf merriserif -tfs 14 -nf ptsans -nfs 14\n"
   ]
  },
  {
   "cell_type": "markdown",
   "metadata": {},
   "source": [
    "To begin with, we check the activity the victim was practicing at the time of the attack. To do so, we will plot the activity column of our dataset onto a Pie Chart to visually see the most affected community."
   ]
  },
  {
   "cell_type": "code",
   "execution_count": 4,
   "metadata": {},
   "outputs": [
    {
     "data": {
      "text/plain": [
       "Text(0.5, 1.0, 'ACTIVITY')"
      ]
     },
     "execution_count": 4,
     "metadata": {},
     "output_type": "execute_result"
    },
    {
     "data": {
      "image/png": "[encoded data removed]",
      "text/plain": [
       "<Figure size 432x288 with 1 Axes>"
      ]
     },
     "metadata": {},
     "output_type": "display_data"
    }
   ],
   "source": [
    "data[\"Activity\"].value_counts().nlargest().plot.pie().set_title(\"ACTIVITY\")"
   ]
  },
  {
   "cell_type": "markdown",
   "metadata": {},
   "source": [
    "As we can see, surfers are the most affected community on shark attacks, representing almost 50% of the pie chart. Therefore, as we predicted in our hypothesis, surfers have the most shark attack encounters. However, in the following relplot, we can see that surfing has been the most affected activity in the last 50 years. Before, swimming has the most affected activity. \n",
    "\n",
    "Although surf was invented in 1767, it would be interesting to investigate in future studies the surf tendencies throughout history and analyse why the first shark attacks have been registered since 1970.\n"
   ]
  },
  {
   "cell_type": "code",
   "execution_count": 10,
   "metadata": {},
   "outputs": [
    {
     "data": {
      "image/png": "[encoded data removed]",
      "text/plain": [
       "<Figure size 360x360 with 1 Axes>"
      ]
     },
     "metadata": {},
     "output_type": "display_data"
    }
   ],
   "source": [
    "sns.set_theme(style=\"darkgrid\")\n",
    "cmap = sns.cubehelix_palette(rot=-.2, as_cmap=True)\n",
    "\n",
    "g = sns.relplot(\n",
    "    data=data,\n",
    "    x=\"Year\", y=\"Activity\",\n",
    "    palette=cmap, sizes=(10, 200),\n",
    ")"
   ]
  },
  {
   "cell_type": "markdown",
   "metadata": {},
   "source": [
    "Now, we will check if Florida, US, is the place where most shark attacks occur. We will now plot a bar graph showing the number of attacks per country:"
   ]
  },
  {
   "cell_type": "code",
   "execution_count": 5,
   "metadata": {},
   "outputs": [
    {
     "data": {
      "text/plain": [
       "Text(0.5, 1.0, 'COUNTRY')"
      ]
     },
     "execution_count": 5,
     "metadata": {},
     "output_type": "execute_result"
    },
    {
     "data": {
      "image/png": "[encoded data removed]",
      "text/plain": [
       "<Figure size 432x288 with 1 Axes>"
      ]
     },
     "metadata": {
      "needs_background": "light"
     },
     "output_type": "display_data"
    }
   ],
   "source": [
    "data[\"Country\"].value_counts().nlargest(6).plot.bar().set_title(\"COUNTRY\")"
   ]
  },
  {
   "cell_type": "markdown",
   "metadata": {},
   "source": [
    "As we can see, USA is the country where most shark attacks occur, followed by Asutralia and South Africa. \n",
    "\n",
    "Now, we will check the most affected locations within each country by plotting the Location column in a bar graph."
   ]
  },
  {
   "cell_type": "code",
   "execution_count": 6,
   "metadata": {},
   "outputs": [
    {
     "data": {
      "text/plain": [
       "Text(0.5, 1.0, 'LOCATION')"
      ]
     },
     "execution_count": 6,
     "metadata": {},
     "output_type": "execute_result"
    },
    {
     "data": {
      "image/png": "[encoded data removed]",
      "text/plain": [
       "<Figure size 432x288 with 1 Axes>"
      ]
     },
     "metadata": {
      "needs_background": "light"
     },
     "output_type": "display_data"
    }
   ],
   "source": [
    "data[\"Area\"].value_counts().nlargest(10).plot.bar().set_title(\"LOCATION\")"
   ]
  },
  {
   "cell_type": "markdown",
   "metadata": {},
   "source": [
    "As we can see, California and Western Cape Province are the locations where most attacks occur rejecting our hypothesis were we stated that Florida was the location with more shark attacks. However, there are still several shark attacks in this location with around 4 per year coming after other locations like Hawaii, West Australia, New South Wales, Oregon and Eastern Cape Province."
   ]
  },
  {
   "cell_type": "code",
   "execution_count": 11,
   "metadata": {},
   "outputs": [
    {
     "ename": "AttributeError",
     "evalue": "'Text' object has no attribute 'sort'",
     "output_type": "error",
     "traceback": [
      "\u001b[1;31m---------------------------------------------------------------------------\u001b[0m",
      "\u001b[1;31mAttributeError\u001b[0m                            Traceback (most recent call last)",
      "\u001b[1;32m<ipython-input-11-149145eb1139>\u001b[0m in \u001b[0;36m<module>\u001b[1;34m\u001b[0m\n\u001b[1;32m----> 1\u001b[1;33m \u001b[0mdata\u001b[0m\u001b[1;33m[\u001b[0m\u001b[1;34m\"Year\"\u001b[0m\u001b[1;33m]\u001b[0m\u001b[1;33m.\u001b[0m\u001b[0mvalue_counts\u001b[0m\u001b[1;33m(\u001b[0m\u001b[1;33m)\u001b[0m\u001b[1;33m.\u001b[0m\u001b[0mnlargest\u001b[0m\u001b[1;33m(\u001b[0m\u001b[1;36m6\u001b[0m\u001b[1;33m)\u001b[0m\u001b[1;33m.\u001b[0m\u001b[0mplot\u001b[0m\u001b[1;33m.\u001b[0m\u001b[0mbar\u001b[0m\u001b[1;33m(\u001b[0m\u001b[1;33m)\u001b[0m\u001b[1;33m.\u001b[0m\u001b[0mset_title\u001b[0m\u001b[1;33m(\u001b[0m\u001b[1;34m\"Year\"\u001b[0m\u001b[1;33m)\u001b[0m\u001b[1;33m.\u001b[0m\u001b[0msort\u001b[0m\u001b[1;33m(\u001b[0m\u001b[0mascending\u001b[0m\u001b[1;33m=\u001b[0m\u001b[1;32mFalse\u001b[0m\u001b[1;33m)\u001b[0m\u001b[1;33m\u001b[0m\u001b[1;33m\u001b[0m\u001b[0m\n\u001b[0m",
      "\u001b[1;31mAttributeError\u001b[0m: 'Text' object has no attribute 'sort'"
     ]
    },
    {
     "data": {
      "image/png": "[encoded data removed]",
      "text/plain": [
       "<Figure size 432x288 with 1 Axes>"
      ]
     },
     "metadata": {},
     "output_type": "display_data"
    }
   ],
   "source": [
    "data[\"Year\"].value_counts().nlargest(6).plot.bar().set_title(\"Year\").sort(ascending=False)"
   ]
  },
  {
   "cell_type": "markdown",
   "metadata": {},
   "source": [
    "Although its not part of our analysis, we will now check other curious information. Following we will see the probability of whether shark attacks are mortal or not by plotting in a pie chart. In following studies, it would be interesting to dive deeper on the injuries and which ones are the most common."
   ]
  },
  {
   "cell_type": "code",
   "execution_count": 42,
   "metadata": {},
   "outputs": [
    {
     "data": {
      "text/plain": [
       "Text(0.5, 1.0, 'FATAL DEATHS')"
      ]
     },
     "execution_count": 42,
     "metadata": {},
     "output_type": "execute_result"
    },
    {
     "data": {
      "image/png": "[encoded data removed]",
      "text/plain": [
       "<Figure size 432x288 with 1 Axes>"
      ]
     },
     "metadata": {},
     "output_type": "display_data"
    }
   ],
   "source": [
    "data[\"Fatal (Y/N)\"].value_counts().nlargest().plot.pie().set_title(\"FATAL DEATHS\")"
   ]
  },
  {
   "cell_type": "markdown",
   "metadata": {},
   "source": [
    "As we can see, you have a higher probablity of surviving to a shark attack than of dying.\n",
    "\n",
    "Following, we will look at which gender are the most affected by a shark attack."
   ]
  },
  {
   "cell_type": "code",
   "execution_count": 43,
   "metadata": {},
   "outputs": [
    {
     "data": {
      "text/plain": [
       "Text(0.5, 1.0, 'SEX')"
      ]
     },
     "execution_count": 43,
     "metadata": {},
     "output_type": "execute_result"
    },
    {
     "data": {
      "image/png": "[encoded data removed]",
      "text/plain": [
       "<Figure size 432x288 with 1 Axes>"
      ]
     },
     "metadata": {},
     "output_type": "display_data"
    }
   ],
   "source": [
    "data[\"Sex \"].value_counts().nlargest().plot.pie().set_title(\"SEX\")"
   ]
  },
  {
   "cell_type": "markdown",
   "metadata": {},
   "source": [
    "As we can see, almost all the attacks are done to men.\n",
    "\n",
    "In future analysis, it would be interesting to find out why and which activites are mostly done by men and why sharks tend to attack more men."
   ]
  }
 ],
 "metadata": {
  "kernelspec": {
   "display_name": "Python 3",
   "language": "python",
   "name": "python3"
  },
  "language_info": {
   "codemirror_mode": {
    "name": "ipython",
    "version": 3
   },
   "file_extension": ".py",
   "mimetype": "text/x-python",
   "name": "python",
   "nbconvert_exporter": "python",
   "pygments_lexer": "ipython3",
   "version": "3.8.5"
  }
 },
 "nbformat": 4,
 "nbformat_minor": 4
}
